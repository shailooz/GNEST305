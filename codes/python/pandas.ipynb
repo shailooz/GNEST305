{
  "nbformat": 4,
  "nbformat_minor": 0,
  "metadata": {
    "colab": {
      "provenance": []
    },
    "kernelspec": {
      "name": "python3",
      "display_name": "Python 3"
    },
    "language_info": {
      "name": "python"
    }
  },
  "cells": [
    {
      "cell_type": "markdown",
      "metadata": {
        "id": "view-in-github"
      },
      "source": [
        "<a href=\"https://colab.research.google.com/github/suadamohammed/pandas/blob/main/New_Pandas_tutorial.ipynb\" target=\"_parent\"><img src=\"https://colab.research.google.com/assets/colab-badge.svg\" alt=\"Open In Colab\"/></a>"
      ]
    },
    {
      "cell_type": "markdown",
      "source": [
        "Import the necessary libraries"
      ],
      "metadata": {
        "id": "jgFGADufQCKh"
      }
    },
    {
      "cell_type": "code",
      "execution_count": null,
      "metadata": {
        "id": "XfHlSDBCkCyd"
      },
      "outputs": [],
      "source": [
        "import pandas as pd"
      ]
    },
    {
      "cell_type": "markdown",
      "source": [
        "Mount the google drive and set your path to the parent directory where you save your dataset"
      ],
      "metadata": {
        "id": "7QIA3E6-QGw7"
      }
    },
    {
      "cell_type": "markdown",
      "source": [
        "Reading the .csv file"
      ],
      "metadata": {
        "id": "HV3KKIaaQk5Q"
      }
    },
    {
      "cell_type": "code",
      "source": [
        "df=pd.read_csv(\"Salaries.csv\")\n",
        "print(df)"
      ],
      "metadata": {
        "id": "Kfun17qxL_G2"
      },
      "execution_count": null,
      "outputs": []
    },
    {
      "cell_type": "markdown",
      "source": [
        "Exploring the dataframes"
      ],
      "metadata": {
        "id": "ryiQWZ-BQ8Kl"
      }
    },
    {
      "cell_type": "code",
      "source": [
        "df.head()"
      ],
      "metadata": {
        "id": "5mlqDMTkMVNb"
      },
      "execution_count": null,
      "outputs": []
    },
    {
      "cell_type": "code",
      "source": [
        "df.tail()"
      ],
      "metadata": {
        "id": "bApw07nNNSOD"
      },
      "execution_count": null,
      "outputs": []
    },
    {
      "cell_type": "code",
      "source": [
        "df.columns\n",
        "print(df[['phd','rank']])"
      ],
      "metadata": {
        "id": "NOO1ehgvPP9O"
      },
      "execution_count": null,
      "outputs": []
    },
    {
      "cell_type": "code",
      "source": [
        "print(df['rank'].dtype)"
      ],
      "metadata": {
        "id": "ld1_aWGLR0VI"
      },
      "execution_count": null,
      "outputs": []
    },
    {
      "cell_type": "markdown",
      "source": [
        "Data Frames attributes\n"
      ],
      "metadata": {
        "id": "GwfkCDv6Rmxn"
      }
    },
    {
      "cell_type": "code",
      "source": [
        "df.dtypes"
      ],
      "metadata": {
        "id": "P2v7XjjkSF1A"
      },
      "execution_count": null,
      "outputs": []
    },
    {
      "cell_type": "code",
      "source": [
        "df.shape"
      ],
      "metadata": {
        "id": "FOPquqDOSinF"
      },
      "execution_count": null,
      "outputs": []
    },
    {
      "cell_type": "markdown",
      "source": [
        "Data Frames methods"
      ],
      "metadata": {
        "id": "sdIvEZJ8R-cE"
      }
    },
    {
      "cell_type": "code",
      "source": [
        "df[['phd']].mean()"
      ],
      "metadata": {
        "id": "VPkelcwZKT5Y"
      },
      "execution_count": null,
      "outputs": []
    },
    {
      "cell_type": "code",
      "source": [
        "# print(df.mean())"
      ],
      "metadata": {
        "id": "eGKCqdviTlx3"
      },
      "execution_count": null,
      "outputs": []
    },
    {
      "cell_type": "markdown",
      "source": [
        "Selecting a column in a Data Frame"
      ],
      "metadata": {
        "id": "iHyzmJeKTNpO"
      }
    },
    {
      "cell_type": "code",
      "source": [
        "print(df['sex'])\n",
        "print(df.sex)"
      ],
      "metadata": {
        "id": "-hS5YsblTPzc"
      },
      "execution_count": null,
      "outputs": []
    },
    {
      "cell_type": "code",
      "source": [
        "df['salary'].mean()\n"
      ],
      "metadata": {
        "id": "NVbW8w_5YVVc"
      },
      "execution_count": null,
      "outputs": []
    },
    {
      "cell_type": "markdown",
      "source": [
        "Data Frames groupby method"
      ],
      "metadata": {
        "id": "8k8uPArXTifB"
      }
    },
    {
      "cell_type": "code",
      "source": [
        "#Group data using rank\n",
        "df_rank = df.groupby(['rank'])\n",
        "#Calculate mean value for each numeric column per each group\n",
        "df_rank.mean()\n"
      ],
      "metadata": {
        "id": "1u1PdkW9TpdO"
      },
      "execution_count": null,
      "outputs": []
    },
    {
      "cell_type": "code",
      "source": [
        "#Calculate mean salary for each professor rank:\n",
        "df.groupby('rank')[['salary']].mean()"
      ],
      "metadata": {
        "id": "kO5lyJQdUE1n"
      },
      "execution_count": null,
      "outputs": []
    },
    {
      "cell_type": "code",
      "source": [
        "#pass sort=False for potential speedup:\n",
        "df_rank=df.groupby(['rank'],sort=False)[['salary']]\n",
        "print(df_rank.mean())"
      ],
      "metadata": {
        "id": "FIy6FCeGY9E2"
      },
      "execution_count": null,
      "outputs": []
    },
    {
      "cell_type": "markdown",
      "source": [
        "Data Frame: filtering"
      ],
      "metadata": {
        "id": "Hb2W_rCgUk7q"
      }
    },
    {
      "cell_type": "code",
      "source": [
        "#Calculate mean salary for each professor rank:\n",
        "df_sub = df[ df['salary'] > 120000 ]"
      ],
      "metadata": {
        "id": "0zGG2vUAUjEg"
      },
      "execution_count": null,
      "outputs": []
    },
    {
      "cell_type": "code",
      "source": [
        "#Select only those rows that contain female professors:\n",
        "df_f = df[ df['sex'] == 'Female' ]"
      ],
      "metadata": {
        "id": "m2FTu5D8aUDa"
      },
      "execution_count": null,
      "outputs": []
    },
    {
      "cell_type": "markdown",
      "source": [
        "Data Frames: Slicing"
      ],
      "metadata": {
        "id": "zJo_PQQmVRgk"
      }
    },
    {
      "cell_type": "code",
      "source": [
        "#Select column salary:\n",
        "df['salary']"
      ],
      "metadata": {
        "id": "jPF4iYZvWh1J"
      },
      "execution_count": null,
      "outputs": []
    },
    {
      "cell_type": "code",
      "source": [
        "#Select column salary:\n",
        "df[['rank','salary']]"
      ],
      "metadata": {
        "id": "Tw6eCcwaWlNQ"
      },
      "execution_count": null,
      "outputs": []
    },
    {
      "cell_type": "code",
      "source": [
        "#Select rows by their position-[starting_row:ending_row]\n",
        "df[10:20]"
      ],
      "metadata": {
        "id": "PVvX0ZklWu5I"
      },
      "execution_count": null,
      "outputs": []
    },
    {
      "cell_type": "code",
      "source": [
        "#Select rows by their labels:\n",
        "df_sub.loc[10:20,['rank','sex','salary']]"
      ],
      "metadata": {
        "id": "pjcrBbIgW31f"
      },
      "execution_count": null,
      "outputs": []
    },
    {
      "cell_type": "code",
      "source": [
        "#Select rows by their labels:\n",
        "df_sub.loc[10:20,['rank','sex','salary']]"
      ],
      "metadata": {
        "id": "TJ14zrqhZR0v"
      },
      "execution_count": null,
      "outputs": []
    },
    {
      "cell_type": "code",
      "source": [
        "#Select rows by their labels:\n",
        "df_sub.iloc[10:20,[0, 3, 4, 5]]"
      ],
      "metadata": {
        "id": "_QtWYO3wZclf"
      },
      "execution_count": null,
      "outputs": []
    },
    {
      "cell_type": "code",
      "source": [
        "df.iloc[0]  # First row of a data frame\n",
        "# df.iloc[i]  #(i+1)th row\n",
        "# df.iloc[-1] # Last row"
      ],
      "metadata": {
        "id": "tSE5BLnqZqrw"
      },
      "execution_count": null,
      "outputs": []
    },
    {
      "cell_type": "code",
      "source": [
        "df.iloc[:, 0]  # First column\n",
        "# df.iloc[:, -1] # Last column"
      ],
      "metadata": {
        "id": "51brIgZ-ceRy"
      },
      "execution_count": null,
      "outputs": []
    },
    {
      "cell_type": "code",
      "source": [
        "df.iloc[0:7]       #First 7 rows\n",
        "# df.iloc[:, 0:2]    #First 2 columns\n",
        "# df.iloc[1:3, 0:2]  #Second through third rows and first 2 columns\n",
        "# df.iloc[[0,5], [1,3]]  #1st and 6th rows and 2nd and 4th columns"
      ],
      "metadata": {
        "id": "QbvQMIYLclM9"
      },
      "execution_count": null,
      "outputs": []
    },
    {
      "cell_type": "code",
      "source": [
        "# Create a new data frame from the original sorted by the column Salary\n",
        "df_sorted = df.sort_values( by ='service')\n",
        "df_sorted.head()\n"
      ],
      "metadata": {
        "id": "_JocQFyzcs8x"
      },
      "execution_count": null,
      "outputs": []
    },
    {
      "cell_type": "code",
      "source": [
        "df_sorted = df.sort_values( by ='service',ascending=False)\n",
        "df_sorted.head(20)"
      ],
      "metadata": {
        "id": "VLwZOf-ufVDp"
      },
      "execution_count": null,
      "outputs": []
    },
    {
      "cell_type": "code",
      "source": [
        "#sort the data using 2 or more columns:\n",
        "df_sorted = df.sort_values( by =['service', 'salary'], ascending = [True, False])\n",
        "df_sorted.head(10)"
      ],
      "metadata": {
        "id": "Up2GfzhghZiJ"
      },
      "execution_count": null,
      "outputs": []
    },
    {
      "cell_type": "code",
      "source": [
        "# Drop the 'Math' column\n",
        "\n",
        "df_sorted.drop(columns = 'phd')\n",
        "df_sorted.head(10)"
      ],
      "metadata": {
        "id": "khzJdT-Gladr"
      },
      "execution_count": null,
      "outputs": []
    },
    {
      "cell_type": "code",
      "source": [
        "# Describe function on numerical variable\n",
        "\n",
        "df_sorted['salary'].describe()"
      ],
      "metadata": {
        "id": "xbEC4vNlmBto"
      },
      "execution_count": null,
      "outputs": []
    },
    {
      "cell_type": "code",
      "source": [
        "# What is the median salary?\n",
        "\n",
        "df_sorted['salary'].median()\n"
      ],
      "metadata": {
        "id": "ze1GqrOwmYZP"
      },
      "execution_count": null,
      "outputs": []
    },
    {
      "cell_type": "code",
      "source": [
        "# Encode male as 1 and female as 0\n",
        "df_sorted['Encoded Sex'] = df_sorted['sex'].map({'Male':1, 'Female':0})"
      ],
      "metadata": {
        "id": "rOJ30lzumYbn"
      },
      "execution_count": null,
      "outputs": []
    },
    {
      "cell_type": "code",
      "source": [
        "# Check for null values\n",
        "\n",
        "df_sorted.isnull().sum()"
      ],
      "metadata": {
        "id": "JVrz1P4EmYeV"
      },
      "execution_count": null,
      "outputs": []
    },
    {
      "cell_type": "code",
      "source": [
        "df['sex'].value_counts()"
      ],
      "metadata": {
        "id": "F9MJ4B4UmYgz"
      },
      "execution_count": null,
      "outputs": []
    },
    {
      "cell_type": "code",
      "source": [],
      "metadata": {
        "id": "6OdUwj1BmYji"
      },
      "execution_count": null,
      "outputs": []
    },
    {
      "cell_type": "markdown",
      "source": [
        "Missing Values"
      ],
      "metadata": {
        "id": "Xb0egkuPiceR"
      }
    },
    {
      "cell_type": "code",
      "source": [
        "# Read a dataset with missing values\n",
        "flights = pd.read_csv(\"flights.csv\")"
      ],
      "metadata": {
        "id": "VjU9aTlZieqQ"
      },
      "execution_count": null,
      "outputs": []
    },
    {
      "cell_type": "code",
      "source": [
        "# Select the rows that have at least one missing value\n",
        "flights[flights.isnull().any(axis=1)].head()"
      ],
      "metadata": {
        "id": "E3hmOaCclMuI"
      },
      "execution_count": null,
      "outputs": []
    },
    {
      "cell_type": "code",
      "source": [
        "flights[['dep_delay','arr_delay']].agg(['min','mean','max'])"
      ],
      "metadata": {
        "id": "xyeDQzF6l76B"
      },
      "execution_count": null,
      "outputs": []
    },
    {
      "cell_type": "code",
      "source": [
        "import matplotlib.pyplot as plt"
      ],
      "metadata": {
        "id": "a2IVjM0o5zvH"
      },
      "execution_count": null,
      "outputs": []
    },
    {
      "cell_type": "code",
      "source": [
        "df.plot(kind = 'scatter', x = 'salary', y = 'phd')\n",
        "plt.show()"
      ],
      "metadata": {
        "id": "jG3ZJhVH6AdI"
      },
      "execution_count": null,
      "outputs": []
    }
  ]
}