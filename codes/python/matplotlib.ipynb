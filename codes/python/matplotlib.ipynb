{
  "nbformat": 4,
  "nbformat_minor": 0,
  "metadata": {
    "kernelspec": {
      "display_name": "Python 3",
      "language": "python",
      "name": "python3"
    },
    "language_info": {
      "codemirror_mode": {
        "name": "ipython",
        "version": 3
      },
      "file_extension": ".py",
      "mimetype": "text/x-python",
      "name": "python",
      "nbconvert_exporter": "python",
      "pygments_lexer": "ipython3",
      "version": "3.8.5"
    },
    "colab": {
      "name": "MatplotLib.ipynb",
      "provenance": []
    }
  },
  "cells": [
    {
      "cell_type": "markdown",
      "metadata": {
        "id": "pL1UdMrhU_k-"
      },
      "source": [
        "## Data visualisation using Matplotlib"
      ]
    },
    {
      "cell_type": "markdown",
      "metadata": {
        "id": "8mJARalZU_k_"
      },
      "source": [
        "## Seaborn, Yellowbrick"
      ]
    },
    {
      "cell_type": "code",
      "metadata": {
        "id": "islaONvEU_lA"
      },
      "source": [
        "from matplotlib import pyplot as plt\n",
        "%matplotlib inline"
      ],
      "execution_count": null,
      "outputs": []
    },
    {
      "cell_type": "code",
      "metadata": {
        "id": "VgnBifgUU_lA"
      },
      "source": [
        "y = [5,3,4,5,6,7,2,8,9]\n",
        "plt.plot(y)\n",
        "plt.show()"
      ],
      "execution_count": null,
      "outputs": []
    },
    {
      "cell_type": "code",
      "metadata": {
        "id": "DpoKh-suqeuU"
      },
      "source": [
        "x = [-5,-4,-3,-2,-1,0,1,2,3,4,5]\n",
        "#y = [25,16,9,4,1,0,1,4,9,16,25]\n",
        "y = [i**2 for i in x]\n",
        "plt.plot(x,y)\n",
        "plt.show()"
      ],
      "execution_count": null,
      "outputs": []
    },
    {
      "cell_type": "code",
      "metadata": {
        "id": "0miTcUhzU_lB"
      },
      "source": [
        "import numpy as np\n",
        "import math \n",
        "\n",
        "x = np.arange(-1,1.1,0.1).tolist()\n",
        "y = [i**2 + 5 for i in x]\n",
        "print(x)\n",
        "print(y)\n",
        "\n",
        "plt.plot(x,y)\n",
        "plt.show()"
      ],
      "execution_count": null,
      "outputs": []
    },
    {
      "cell_type": "code",
      "metadata": {
        "id": "pr1_99o1U_lB"
      },
      "source": [
        "import numpy as np\n",
        "x = np.arange(0,10,0.1)\n",
        "y = np.sin(x)"
      ],
      "execution_count": null,
      "outputs": []
    },
    {
      "cell_type": "code",
      "metadata": {
        "id": "NXiueAQ_U_lC"
      },
      "source": [
        "plt.plot(x,y)\n",
        "plt.xlabel('angle')\n",
        "plt.ylabel('sin')\n",
        "plt.title('sin wave')\n",
        "plt.show()"
      ],
      "execution_count": null,
      "outputs": []
    },
    {
      "cell_type": "code",
      "metadata": {
        "id": "kSNY9CrWU_lC"
      },
      "source": [
        "plt.scatter(x,y)\n",
        "plt.xlabel('angle')\n",
        "plt.ylabel('sin')\n",
        "plt.title('sin wave')\n",
        "plt.show()"
      ],
      "execution_count": null,
      "outputs": []
    },
    {
      "cell_type": "code",
      "metadata": {
        "id": "fLxD2y8aU_lC"
      },
      "source": [
        "plt.plot(x,y)\n",
        "plt.scatter(x,y)\n",
        "plt.xlabel('angle')\n",
        "plt.ylabel('sin')\n",
        "plt.title('sin wave')\n",
        "plt.show()"
      ],
      "execution_count": null,
      "outputs": []
    },
    {
      "cell_type": "code",
      "metadata": {
        "id": "6cDDkNIoU_lD"
      },
      "source": [
        "plt.plot(x,np.sin(x), 'b+', label='sin')\n",
        "plt.plot(x,np.cos(x) ,'y--', label='cos') #Scatter connections\n",
        "plt.xlabel('angle')\n",
        "plt.ylabel('sin/cos')\n",
        "plt.title('sin/cos wave')\n",
        "plt.ylim(-2,2)\n",
        "plt.xlim(-5,15)\n",
        "plt.legend()\n",
        "plt.show()"
      ],
      "execution_count": null,
      "outputs": []
    },
    {
      "cell_type": "code",
      "metadata": {
        "id": "1VfkA8FAU_lD"
      },
      "source": [
        ""
      ],
      "execution_count": null,
      "outputs": []
    },
    {
      "cell_type": "markdown",
      "metadata": {
        "id": "cedEKf4mU_lD"
      },
      "source": [
        "## Subplot"
      ]
    },
    {
      "cell_type": "code",
      "metadata": {
        "id": "iwytuUcSvgJ4"
      },
      "source": [
        "fig, axis = plt.subplots(1,2, figsize=(10,5))\n",
        "\n",
        "print(axis.shape)"
      ],
      "execution_count": null,
      "outputs": []
    },
    {
      "cell_type": "code",
      "metadata": {
        "id": "nTjEAlhMU_lE"
      },
      "source": [
        "fig, axis = plt.subplots(1,2, figsize=(15,5))\n",
        "x = np.arange(0,10,0.1)\n",
        "axis[0].plot(x,np.sin(x), 'g--')\n",
        "axis[0].set_title('sin')\n",
        "axis[0].set_xlabel('angle')\n",
        "axis[0].set_ylabel('sin')\n",
        "axis[1].plot(x,np.cos(x), 'r--')\n",
        "axis[1].set_title('cos')\n",
        "axis[1].set_xlabel('angle')\n",
        "axis[1].set_ylabel('cos')\n",
        "plt.show()"
      ],
      "execution_count": null,
      "outputs": []
    },
    {
      "cell_type": "code",
      "metadata": {
        "id": "CuXMxnGuU_lE"
      },
      "source": [
        "fig, axis = plt.subplots(2,2, figsize=(10,10))\n",
        "x = np.arange(0,10,0.1)\n",
        "axis[0][0].plot(x,np.sin(x), 'y--')\n",
        "axis[0][0].set_title('sin')\n",
        "axis[0][0].set_ylim(-3,3)\n",
        "axis[0][1].plot(x,2*np.sin(x), 'g--')\n",
        "axis[0][1].set_title('sin')\n",
        "axis[0][1].set_ylim(-3,3)\n",
        "axis[1][0].plot(x,np.cos(x), 'b--')\n",
        "axis[1][0].set_title('cos')\n",
        "axis[1][0].set_ylim(-3,3)\n",
        "axis[1][1].plot(x,2*np.cos(x), 'r--')\n",
        "axis[1][1].set_title('cos')\n",
        "axis[1][1].set_ylim(-3,3)\n",
        "plt.show()"
      ],
      "execution_count": null,
      "outputs": []
    },
    {
      "cell_type": "code",
      "metadata": {
        "id": "o8s3zyS5U_lE"
      },
      "source": [
        "x = np.random.random(100)*100\n",
        "y = np.random.random(100)*100"
      ],
      "execution_count": null,
      "outputs": []
    },
    {
      "cell_type": "code",
      "metadata": {
        "id": "pCo3bYpNU_lE"
      },
      "source": [
        "plt.scatter(x,y)\n",
        "plt.xlabel('price')\n",
        "plt.ylabel('demand')\n",
        "plt.title('stock')\n",
        "plt.show()"
      ],
      "execution_count": null,
      "outputs": []
    },
    {
      "cell_type": "code",
      "metadata": {
        "id": "n9-_DtkzylDt"
      },
      "source": [
        "x = np.array([1,2,3])\n",
        "y = [98,85,100]\n",
        "plt.bar(x,y)\n",
        "plt.show()"
      ],
      "execution_count": null,
      "outputs": []
    },
    {
      "cell_type": "code",
      "metadata": {
        "id": "JQumHUd1U_lF"
      },
      "source": [
        "import matplotlib.pyplot as plt\n",
        "import seaborn as sns\n",
        "\n",
        "sns.distplot([0, 1, 2, 3, 4, 5,3,2,3])\n",
        "\n",
        "plt.show()"
      ],
      "execution_count": null,
      "outputs": []
    },
    {
      "cell_type": "code",
      "metadata": {
        "id": "eh1csPmT9p-9"
      },
      "source": [
        "from numpy import random\n",
        "import matplotlib.pyplot as plt\n",
        "import seaborn as sns\n",
        "\n",
        "x = np.random.random((1000,3))\n",
        "\n",
        "\n",
        "sns.distplot(x[:,0], hist=True)\n",
        "plt.show()\n",
        "\n",
        "sns.distplot(x[:,1], hist=True)\n",
        "plt.show()\n",
        "\n",
        "sns.distplot(x[:,2], hist=True)\n",
        "plt.show()"
      ],
      "execution_count": null,
      "outputs": []
    },
    {
      "cell_type": "code",
      "metadata": {
        "id": "TnKxP7WCnU0W"
      },
      "source": [
        ""
      ],
      "execution_count": null,
      "outputs": []
    }
  ]
}