{
  "nbformat": 4,
  "nbformat_minor": 0,
  "metadata": {
    "colab": {
      "provenance": []
    },
    "kernelspec": {
      "name": "python3",
      "display_name": "Python 3"
    },
    "language_info": {
      "name": "python"
    }
  },
  "cells": [
    {
      "cell_type": "code",
      "execution_count": null,
      "metadata": {
        "id": "q58RaFcy9G8-"
      },
      "outputs": [],
      "source": [
        "def f(p):\n",
        "  return (p[0]-2)**2+(p[1]+3)**2\n"
      ]
    },
    {
      "cell_type": "code",
      "source": [
        "def gradf(p):\n",
        "  return np.array((2*p[0]-4, 2*p[1]+6))"
      ],
      "metadata": {
        "id": "PtfY4lK0IRlf"
      },
      "execution_count": null,
      "outputs": []
    },
    {
      "cell_type": "code",
      "source": [
        "import numpy as np\n",
        "def gradent_decent(p0,f,gradf,alpha,max_itr=100):\n",
        "  p=np.array(p0)\n",
        "  bound = np.array((0.001,0.001))\n",
        "  i=0\n",
        "  while(not np.all(gradf(p)<bound) and i<=max_itr):\n",
        "    print(p)\n",
        "    p=p-alpha*gradf(p)\n",
        "    i=i+1\n",
        "  return p\n"
      ],
      "metadata": {
        "id": "6RNGeacdIpDE"
      },
      "execution_count": null,
      "outputs": []
    },
    {
      "cell_type": "code",
      "source": [
        "solution = gradent_decent((3,-5),f,gradf,0.1)\n",
        "print(np.round(solution))"
      ],
      "metadata": {
        "colab": {
          "base_uri": "https://localhost:8080/"
        },
        "id": "89KQWqCzLW6Q",
        "outputId": "7658c6e8-d8e4-4bba-849e-072b2b8d0b7d"
      },
      "execution_count": null,
      "outputs": [
        {
          "output_type": "stream",
          "name": "stdout",
          "text": [
            "[ 3 -5]\n",
            "[ 2.8 -4.6]\n",
            "[ 2.64 -4.28]\n",
            "[ 2.512 -4.024]\n",
            "[ 2.4096 -3.8192]\n",
            "[ 2.32768 -3.65536]\n",
            "[ 2.262144 -3.524288]\n",
            "[ 2.2097152 -3.4194304]\n",
            "[ 2.16777216 -3.33554432]\n",
            "[ 2.13421773 -3.26843546]\n",
            "[ 2.10737418 -3.21474836]\n",
            "[ 2.08589935 -3.17179869]\n",
            "[ 2.06871948 -3.13743895]\n",
            "[ 2.05497558 -3.10995116]\n",
            "[ 2.04398047 -3.08796093]\n",
            "[ 2.03518437 -3.07036874]\n",
            "[ 2.0281475 -3.056295 ]\n",
            "[ 2.022518 -3.045036]\n",
            "[ 2.0180144 -3.0360288]\n",
            "[ 2.01441152 -3.02882304]\n",
            "[ 2.01152922 -3.02305843]\n",
            "[ 2.00922337 -3.01844674]\n",
            "[ 2.0073787 -3.0147574]\n",
            "[ 2.00590296 -3.01180592]\n",
            "[ 2.00472237 -3.00944473]\n",
            "[ 2.00377789 -3.00755579]\n",
            "[ 2.00302231 -3.00604463]\n",
            "[ 2.00241785 -3.0048357 ]\n",
            "[ 2.00193428 -3.00386856]\n",
            "[ 2.00154743 -3.00309485]\n",
            "[ 2.00123794 -3.00247588]\n",
            "[ 2.00099035 -3.0019807 ]\n",
            "[ 2.00079228 -3.00158456]\n",
            "[ 2.00063383 -3.00126765]\n",
            "[ 2.00050706 -3.00101412]\n",
            "[ 2. -3.]\n"
          ]
        }
      ]
    },
    {
      "cell_type": "code",
      "source": [],
      "metadata": {
        "id": "b-5HWkZVMOXd"
      },
      "execution_count": null,
      "outputs": []
    }
  ]
}